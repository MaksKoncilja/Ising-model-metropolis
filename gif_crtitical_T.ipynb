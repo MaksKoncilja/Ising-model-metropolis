{
 "cells": [
  {
   "cell_type": "code",
   "execution_count": null,
   "metadata": {},
   "outputs": [],
   "source": [
    "#import all the necessary libraries  \n",
    "import numpy as np\n",
    "import random\n",
    "import matplotlib.pyplot as plt\n",
    "plt.style.use(['science','notebook', 'grid'])\n",
    "import numba\n",
    "from numba import njit\n",
    "from scipy.ndimage import convolve, generate_binary_structure\n",
    "from PIL import Image"
   ]
  },
  {
   "cell_type": "code",
   "execution_count": null,
   "metadata": {},
   "outputs": [],
   "source": [
    "#create lattice size N, with randomly distributed up and down spins (half of the spins are pinted up und half down)\n",
    "def lattice(N):\n",
    "    lattice = np.zeros((N, N))\n",
    "    random = np.random.random((N, N))\n",
    "    lattice[random > 0.5 ] = 1\n",
    "    lattice[random <= 0.5 ] = -1\n",
    "    return lattice\n",
    "\n",
    "#display lattice\n",
    "def display_lattice(lattice):\n",
    "    return Image.fromarray(np.uint8((lattice + 1) * 0.5 * 255))"
   ]
  },
  {
   "cell_type": "code",
   "execution_count": null,
   "metadata": {},
   "outputs": [],
   "source": [
    "#metropolis algoritm for ising model\n",
    "@numba.njit(nopython=True)\n",
    "def MCS_lattice(lattice, N=100, BJ= 0.43): \n",
    "    lattice = lattice.copy()\n",
    "    for b in range(N**2):\n",
    "        i = random.randint(0,N-1)\n",
    "        j = random.randint(0,N-1)\n",
    "        initial = lattice[i][j]\n",
    "        neigbours = lattice[i][(j-1)%N] + lattice[(i-1)%N][j] + lattice[i][(j+1)%N] + lattice[(i+1)%N][j]\n",
    "        delta_E =  2 *  initial * neigbours\n",
    "        if delta_E <= 0:\n",
    "            lattice[i][j] = (-1) * initial \n",
    "        elif (delta_E > 0) * (random.random() < np.exp(- BJ * delta_E )): \n",
    "            lattice[i][j] = (-1) * initial     \n",
    "    return(lattice)"
   ]
  },
  {
   "cell_type": "code",
   "execution_count": null,
   "metadata": {},
   "outputs": [],
   "source": [
    "from ipywidgets import interact\n",
    "\n",
    "def display_ising_sequence(images):\n",
    "    def _show(frame=(0, len(images) - 1)):\n",
    "        return display_lattice(images[frame])\n",
    "    return interact(_show)\n",
    "\n",
    "\n",
    "#amount of images to display set to 500\n",
    "images = [lattice(100)]\n",
    "for i in range(500):\n",
    "    images.append(MCS_lattice(images[-1].copy()))\n",
    "display_ising_sequence(images);\n",
    "\n",
    "import numpy as np\n",
    "from array2gif import write_gif\n",
    "from __future__ import print_function\n",
    "import numpy as np\n",
    "from numba import jit\n",
    "import time\n",
    "from PIL import Image\n",
    "\n",
    "import matplotlib\n",
    "matplotlib.use('Agg')\n",
    "from matplotlib import pyplot as plt\n",
    "from matplotlib import colors\n",
    "import matplotlib.animation as animation\n",
    "cmap1 = colors.ListedColormap(('#8e82fe','#580f41'))\n",
    "\n",
    "\n",
    "def animate_run(images, size=(5,5), fps=15, bitrate=1800, filename='run', ticks='off', dpi=100, cmap=cmap1):\n",
    "\n",
    "    \"\"\"\n",
    "        function used to produce run animations, takes awhile, suitable for small/short runs,\n",
    "        has the advantage of producing clear images of any size\n",
    "    \"\"\"\n",
    "\n",
    "    writer = animation.PillowWriter(fps=fps, metadata=dict(artist='Me'), bitrate=bitrate)\n",
    "    FIG, ax = plt.subplots(figsize=size)\n",
    "    ims = []\n",
    "    plt.axis(ticks)\n",
    "    \n",
    "    for i in images:\n",
    "        \n",
    "        im = ax.imshow(i, origin='lower', cmap=cmap)\n",
    "        ims.append([im])\n",
    "        \n",
    "    ani = animation.ArtistAnimation(FIG, ims, interval=150, blit=True, repeat_delay=1000)\n",
    "    ani.save(filename + '.gif', dpi=dpi, writer=writer)\n",
    "\n",
    "animate_run(images, filename='lattice_100x100_MCS')"
   ]
  }
 ],
 "metadata": {
  "kernelspec": {
   "display_name": "Python 3.9.12 64-bit ('anaconda3')",
   "language": "python",
   "name": "python3"
  },
  "language_info": {
   "name": "python",
   "version": "3.9.12"
  },
  "orig_nbformat": 4,
  "vscode": {
   "interpreter": {
    "hash": "9a67487fe90656681e28ea9e4300ccbb9d712c9dd99fc45185d36ce33b82d5ab"
   }
  }
 },
 "nbformat": 4,
 "nbformat_minor": 2
}
